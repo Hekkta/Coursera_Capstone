{
    "cells": [
        {
            "cell_type": "markdown",
            "metadata": {
                "collapsed": true
            },
            "source": "<h3> Capstone Project <h3>\n   "
        },
        {
            "cell_type": "markdown",
            "metadata": {},
            "source": "<h4> Introduction/Business problem <h4>"
        },
        {
            "cell_type": "markdown",
            "metadata": {},
            "source": "The problem: Which London underground stations could be classified as residential, leisure or business?\n\nKnowing the answer to this problem could help a start up business to choose which area to open in. Or perhaps a town planner to understand the flow of the population and so to extend the rail system in a practical manner.\n\nThe data used for this project will be a list of London undergrounds and their coordiantes from https://wiki.openstreetmap.org/wiki/List_of_London_Underground_stations. By exploring the neighrbourhood of each station using the Foursquare API we can find what tyes of venues are in each stations vicinity.For example see that they are mostly 'shop and service' venues then we could categorise the station as leisure and similarly for residential or business. The Foursquare API has it's own subcategories already that we will be basing this categorisation on.\n\n    Arts & Entertainment\n    College & University\n    Event\n    Food\n    Nightlife Spot\n    Outdoors & Recreation\n    Professional & Other Places\n    Residence\n    Shop & Service\n    Travel & Transport\n    \nTo precisely decide which category each station will be in, we will count the venues and note their categories or a certain radius around each station. Then use k-means clustering on the data to categorise each station. \n   "
        },
        {
            "cell_type": "code",
            "execution_count": null,
            "metadata": {},
            "outputs": [],
            "source": ""
        }
    ],
    "metadata": {
        "kernelspec": {
            "display_name": "Python 3.7",
            "language": "python",
            "name": "python3"
        },
        "language_info": {
            "codemirror_mode": {
                "name": "ipython",
                "version": 3
            },
            "file_extension": ".py",
            "mimetype": "text/x-python",
            "name": "python",
            "nbconvert_exporter": "python",
            "pygments_lexer": "ipython3",
            "version": "3.7.9"
        }
    },
    "nbformat": 4,
    "nbformat_minor": 1
}