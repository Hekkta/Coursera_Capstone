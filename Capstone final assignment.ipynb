{
    "cells": [
        {
            "cell_type": "markdown",
            "metadata": {
                "collapsed": true
            },
            "source": "<h3> Capstone Project <h3>\n   "
        },
        {
            "cell_type": "markdown",
            "metadata": {},
            "source": "<h4> Introduction/Business problem <h4>"
        },
        {
            "cell_type": "markdown",
            "metadata": {},
            "source": "The problem: Which London underground stations could be classified as residential, leisure or business?\n\nOnce categorised we would know what each station is being primKnowing the answer to this problem could help a start up business choose which area to open in or perhaps a town planner to understand the flow of the London population when considering how to further extend the rail system.\n\n   "
        },
        {
            "cell_type": "markdown",
            "metadata": {},
            "source": "<h4> Data <h4>"
        },
        {
            "cell_type": "markdown",
            "metadata": {},
            "source": "The data used for this project will be a list of London undergrounds and their coordiantes from https://wiki.openstreetmap.org/wiki/List_of_London_Underground_stations. \n\nWe will also need to know the venues surrounding each station (within a certain radius) and what type of venue it is to categorise the station. We can find these by using the Foursquare API which incidently comes with it's own set of categories that we will use.\n\n    Arts & Entertainment\n    College & University\n    Event\n    Food\n    Nightlife Spot\n    Outdoors & Recreation\n    Professional & Other Places\n    Residence\n    Shop & Service\n    Travel & Transport\n    "
        },
        {
            "cell_type": "code",
            "execution_count": null,
            "metadata": {},
            "outputs": [],
            "source": ""
        }
    ],
    "metadata": {
        "kernelspec": {
            "display_name": "Python 3.7",
            "language": "python",
            "name": "python3"
        },
        "language_info": {
            "codemirror_mode": {
                "name": "ipython",
                "version": 3
            },
            "file_extension": ".py",
            "mimetype": "text/x-python",
            "name": "python",
            "nbconvert_exporter": "python",
            "pygments_lexer": "ipython3",
            "version": "3.7.9"
        }
    },
    "nbformat": 4,
    "nbformat_minor": 1
}